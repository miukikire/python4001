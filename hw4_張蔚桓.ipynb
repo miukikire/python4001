{
  "nbformat": 4,
  "nbformat_minor": 0,
  "metadata": {
    "colab": {
      "name": "hw4_張蔚桓.ipynb",
      "provenance": [],
      "authorship_tag": "ABX9TyNcYTqhBg2gxhdL90KDaufS",
      "include_colab_link": true
    },
    "kernelspec": {
      "name": "python3",
      "display_name": "Python 3"
    },
    "language_info": {
      "name": "python"
    }
  },
  "cells": [
    {
      "cell_type": "markdown",
      "metadata": {
        "id": "view-in-github",
        "colab_type": "text"
      },
      "source": [
        "<a href=\"https://colab.research.google.com/github/miukikire/python4001/blob/main/hw4_%E5%BC%B5%E8%94%9A%E6%A1%93.ipynb\" target=\"_parent\"><img src=\"https://colab.research.google.com/assets/colab-badge.svg\" alt=\"Open In Colab\"/></a>"
      ]
    },
    {
      "cell_type": "code",
      "execution_count": null,
      "metadata": {
        "colab": {
          "base_uri": "https://localhost:8080/"
        },
        "id": "YRYdseKMavyP",
        "outputId": "3e6d5164-7fc2-48f1-b8db-74ddf5e2fdae"
      },
      "outputs": [
        {
          "output_type": "stream",
          "name": "stdout",
          "text": [
            "2 3 5\n",
            "5 7 8\n",
            "1 2\n",
            "3 10\n",
            "2 6\n",
            "[[ 21.  64.]\n",
            " [ 42. 128.]]\n"
          ]
        }
      ],
      "source": [
        "#1\n",
        "import numpy as np\n",
        "A = np.zeros((2,3))\n",
        "B = np.zeros((3,2))\n",
        "for i in range(2):\n",
        "  A[i,:] = np.array(list(map(lambda x :int(x), input().split())))\n",
        "for i in range(3):\n",
        "  B[i,:] = np.array(list(map(lambda x :int(x), input().split())))\n",
        "print(np.matmul(A,B))"
      ]
    },
    {
      "cell_type": "code",
      "source": [
        "#2\n",
        "import numpy as np\n",
        "scores = np.zeros((3, 10))\n",
        "scores[0,:] = np.array(list(map(lambda x: int(x), input(\"A class: \").split())))\n",
        "scores[1,:] = np.array(list(map(lambda x: int(x), input(\"B class: \").split())))\n",
        "scores[2,:] = np.array(list(map(lambda x: int(x), input(\"C class: \").split())))\n",
        "#a = np.array([\n",
        "#    [32,57,89,82,98,57,88,56,93,91],\n",
        "#    [88,93,20,70,56,83,92,100,80,97],\n",
        "#    [82,75,83,95,96,90,77,82,90,88]\n",
        "#  ])\n",
        "print(f\"A class 總和:{np.sum(scores,axis=1)[0]}, 最大:{np.max(scores, axis=1)[0]}\")\n",
        "print(f\"B class 總和:{np.sum(scores,axis=1)[1]}, 最大:{np.max(scores, axis=1)[1]}\")\n",
        "print(f\"C class 總和:{np.sum(scores,axis=1)[2]}, 最大:{np.max(scores, axis=1)[2]}\")"
      ],
      "metadata": {
        "colab": {
          "base_uri": "https://localhost:8080/"
        },
        "id": "uWL5AxEKb-zH",
        "outputId": "76c9b4b3-aff4-45a1-caa8-1c3e8ee180ee"
      },
      "execution_count": null,
      "outputs": [
        {
          "output_type": "stream",
          "name": "stdout",
          "text": [
            "A class: 32 57 89 82 98 57 88 56 93 91\n",
            "B class: 88 93 20 70 56 83 92 100 80 97\n",
            "C class: 82 75 83 95 96 90 77 82 90 88\n",
            "A class 總和:743.0, 最大:98.0\n",
            "B class 總和:779.0, 最大:100.0\n",
            "C class 總和:858.0, 最大:96.0\n"
          ]
        }
      ]
    },
    {
      "cell_type": "code",
      "source": [
        ""
      ],
      "metadata": {
        "id": "PeX2Jjkwkhjd"
      },
      "execution_count": null,
      "outputs": []
    }
  ]
}