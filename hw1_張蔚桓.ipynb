{
  "nbformat": 4,
  "nbformat_minor": 0,
  "metadata": {
    "colab": {
      "name": "hw1_張蔚桓.ipynb",
      "provenance": [],
      "collapsed_sections": [],
      "authorship_tag": "ABX9TyNDYij72w9vi5fi0bXk+De/",
      "include_colab_link": true
    },
    "kernelspec": {
      "name": "python3",
      "display_name": "Python 3"
    },
    "language_info": {
      "name": "python"
    }
  },
  "cells": [
    {
      "cell_type": "markdown",
      "metadata": {
        "id": "view-in-github",
        "colab_type": "text"
      },
      "source": [
        "<a href=\"https://colab.research.google.com/github/miukikire/python4001/blob/main/hw1_%E5%BC%B5%E8%94%9A%E6%A1%93.ipynb\" target=\"_parent\"><img src=\"https://colab.research.google.com/assets/colab-badge.svg\" alt=\"Open In Colab\"/></a>"
      ]
    },
    {
      "cell_type": "code",
      "execution_count": null,
      "metadata": {
        "id": "Dv5gkct_iqaW",
        "colab": {
          "base_uri": "https://localhost:8080/"
        },
        "outputId": "88e0baf0-f83b-4789-c7e3-f14f2b7c4643"
      },
      "outputs": [
        {
          "output_type": "stream",
          "name": "stdout",
          "text": [
            "輸入被除數:4\n",
            "輸入除數aa\n",
            "請輸入數字正確格式\n"
          ]
        }
      ],
      "source": [
        "#1\n",
        "try:\n",
        "  a = int(input(\"輸入被除數:\"))\n",
        "  b = int(input(\"輸入除數\"))\n",
        "  ans = a/b\n",
        "  print(f\"{ans:.2f}\")\n",
        "except ValueError:\n",
        "  print(\"請輸入正確數字格式\")"
      ]
    },
    {
      "cell_type": "code",
      "source": [
        "#2\n",
        "n = int(input(\"輸入一數字\"))\n",
        "if n%2==0 and n%3==0:\n",
        "  print(f\"{n}為6的倍數\")\n",
        "elif n%2==0:\n",
        "  print(f\"{n}為2的倍數\")\n",
        "elif n%3==0:\n",
        "  print(f\"{n}為3的倍數\")\n",
        "else:\n",
        "  print(f\"{n}不為2、3、6的倍數\")"
      ],
      "metadata": {
        "colab": {
          "base_uri": "https://localhost:8080/"
        },
        "id": "eYDXTPh1KD96",
        "outputId": "822189a6-3af4-40f0-8d30-96de95e6290b"
      },
      "execution_count": null,
      "outputs": [
        {
          "output_type": "stream",
          "name": "stdout",
          "text": [
            "輸入一數字8\n",
            "8為2的倍數\n"
          ]
        }
      ]
    },
    {
      "cell_type": "code",
      "source": [
        "#3\n",
        "t = int(input(\"輸入一數字小於86400:\"))\n",
        "h = t // 3600\n",
        "lm = t % 3600\n",
        "m = lm // 60\n",
        "s = lm % 60\n",
        "print(f\"{h}時{m}分{s}秒\")"
      ],
      "metadata": {
        "colab": {
          "base_uri": "https://localhost:8080/"
        },
        "id": "JovKR-8HMdND",
        "outputId": "44ec5dd7-93ff-4dc2-acbb-19b18a469d93"
      },
      "execution_count": null,
      "outputs": [
        {
          "output_type": "stream",
          "name": "stdout",
          "text": [
            "輸入一數字小於8640036004\n",
            "10時0分4秒\n"
          ]
        }
      ]
    },
    {
      "cell_type": "code",
      "source": [
        "#4\n",
        "n = int(input(\"輸入一偶數\"))\n",
        "i = 1\n",
        "while i<n:\n",
        "  print(i,end=\" \")\n",
        "  i += 2\n"
      ],
      "metadata": {
        "colab": {
          "base_uri": "https://localhost:8080/"
        },
        "id": "27DkbOwHPlyY",
        "outputId": "7fdd2aea-713f-40cb-918b-12e276376723"
      },
      "execution_count": null,
      "outputs": [
        {
          "output_type": "stream",
          "name": "stdout",
          "text": [
            "輸入一偶數20\n",
            "1 3 5 7 9 11 13 15 17 19 "
          ]
        }
      ]
    },
    {
      "cell_type": "code",
      "source": [
        ""
      ],
      "metadata": {
        "id": "h_pbdOFMQG-g"
      },
      "execution_count": null,
      "outputs": []
    }
  ]
}