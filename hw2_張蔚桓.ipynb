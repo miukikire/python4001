{
  "nbformat": 4,
  "nbformat_minor": 0,
  "metadata": {
    "colab": {
      "name": "hw2_張蔚桓.ipynb",
      "provenance": [],
      "authorship_tag": "ABX9TyONVkjvhvljKi4WKAb0ystN",
      "include_colab_link": true
    },
    "kernelspec": {
      "name": "python3",
      "display_name": "Python 3"
    },
    "language_info": {
      "name": "python"
    }
  },
  "cells": [
    {
      "cell_type": "markdown",
      "metadata": {
        "id": "view-in-github",
        "colab_type": "text"
      },
      "source": [
        "<a href=\"https://colab.research.google.com/github/miukikire/python4001/blob/main/hw2_%E5%BC%B5%E8%94%9A%E6%A1%93.ipynb\" target=\"_parent\"><img src=\"https://colab.research.google.com/assets/colab-badge.svg\" alt=\"Open In Colab\"/></a>"
      ]
    },
    {
      "cell_type": "code",
      "execution_count": null,
      "metadata": {
        "colab": {
          "base_uri": "https://localhost:8080/"
        },
        "id": "vM-AM7Pe9dFN",
        "outputId": "e781529e-aa08-4c58-b44e-fb9718dd2345"
      },
      "outputs": [
        {
          "output_type": "stream",
          "name": "stdout",
          "text": [
            "15\n",
            "1+2+3+4+5+6+7+8+9+10+11+12+13+14+15=120\n"
          ]
        }
      ],
      "source": [
        "#1\n",
        "n = int(input())\n",
        "i = \"1\"\n",
        "ans = 0\n",
        "for x in range(2,n+1):\n",
        "  i = f\"{i}+{x}\"\n",
        "  ans = ans + x\n",
        "print(f\"{i}={ans+1}\")"
      ]
    },
    {
      "cell_type": "code",
      "source": [
        "#2\n",
        "nums = input(\"輸入數字串列，以空格分開\")\n",
        "n = int(input(\"輸入一基準數字\"))\n",
        "nums = nums.split(\" \")\n",
        "ans = []\n",
        "for i in nums:\n",
        "  if int(i) >= n:\n",
        "    ans.append(int(i))\n",
        "print(ans)\n",
        "\n"
      ],
      "metadata": {
        "colab": {
          "base_uri": "https://localhost:8080/"
        },
        "id": "jq1cgf6RY3Bu",
        "outputId": "54f2c7b9-96ea-42e4-bb3a-97742f8cd67a"
      },
      "execution_count": null,
      "outputs": [
        {
          "output_type": "stream",
          "name": "stdout",
          "text": [
            "輸入數字串列，以空格分開44 45 46 47 48 49\n",
            "輸入一基準數字45\n",
            "[45, 46, 47, 48, 49]\n"
          ]
        }
      ]
    },
    {
      "cell_type": "code",
      "source": [
        "#3\n",
        "nums = input(\"輸入數字串列，以空格分開\")\n",
        "nums = nums.split(\" \")\n",
        "ans = 0\n",
        "for i in nums:\n",
        "  if int(i)%2==0:\n",
        "    ans += int(i)\n",
        "print(ans)\n"
      ],
      "metadata": {
        "colab": {
          "base_uri": "https://localhost:8080/"
        },
        "id": "qaTSyQpnZ4pb",
        "outputId": "0807caf5-eefe-43e0-f5c4-7723d2664493"
      },
      "execution_count": null,
      "outputs": [
        {
          "output_type": "stream",
          "name": "stdout",
          "text": [
            "輸入數字串列，以空格分開67 53 28 100 96 85 76 78\n",
            "378\n"
          ]
        }
      ]
    },
    {
      "cell_type": "code",
      "source": [
        "#4\n",
        "str_1 = input()\n",
        "str_2 = input()\n",
        "n_1 = len(str_1)\n",
        "n_2 = len(str_2)\n",
        "t = n_1 - n_2 + 1\n",
        "i = 0\n",
        "count = 0\n",
        "while i < t:\n",
        "  if str_2 == str_1[i:i+n_2]:\n",
        "    count += 1\n",
        "  i+=1\n",
        "print(count)"
      ],
      "metadata": {
        "colab": {
          "base_uri": "https://localhost:8080/"
        },
        "id": "qg0lLL4zdWCf",
        "outputId": "309b38d6-e5bf-4d62-e251-0d67258c036d"
      },
      "execution_count": null,
      "outputs": [
        {
          "output_type": "stream",
          "name": "stdout",
          "text": [
            "bhfjcdfhfffhfgjehfjgbishfjbhfbaa\n",
            "hf\n",
            "6\n"
          ]
        }
      ]
    },
    {
      "cell_type": "code",
      "source": [
        ""
      ],
      "metadata": {
        "id": "tXjGB1fWgiWm"
      },
      "execution_count": null,
      "outputs": []
    }
  ]
}