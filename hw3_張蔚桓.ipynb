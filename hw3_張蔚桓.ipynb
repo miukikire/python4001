{
  "nbformat": 4,
  "nbformat_minor": 0,
  "metadata": {
    "colab": {
      "name": "hw3_張蔚桓.ipynb",
      "provenance": [],
      "authorship_tag": "ABX9TyOmbX0ZgjOVgNcHfihKCIFi",
      "include_colab_link": true
    },
    "kernelspec": {
      "name": "python3",
      "display_name": "Python 3"
    },
    "language_info": {
      "name": "python"
    }
  },
  "cells": [
    {
      "cell_type": "markdown",
      "metadata": {
        "id": "view-in-github",
        "colab_type": "text"
      },
      "source": [
        "<a href=\"https://colab.research.google.com/github/miukikire/python4001/blob/main/hw3_%E5%BC%B5%E8%94%9A%E6%A1%93.ipynb\" target=\"_parent\"><img src=\"https://colab.research.google.com/assets/colab-badge.svg\" alt=\"Open In Colab\"/></a>"
      ]
    },
    {
      "cell_type": "code",
      "execution_count": null,
      "metadata": {
        "colab": {
          "base_uri": "https://localhost:8080/"
        },
        "id": "htWZ_3P0tkF6",
        "outputId": "b3dd2c5a-1d8d-4c2a-fcd8-9256d9714831"
      },
      "outputs": [
        {
          "output_type": "stream",
          "name": "stdout",
          "text": [
            "7\n",
            " *******\n",
            "  ******\n",
            "   *****\n",
            "    ****\n",
            "     ***\n",
            "      **\n",
            "       *\n"
          ]
        }
      ],
      "source": [
        "#1\n",
        "n = int(input())\n",
        "for x in range(n):\n",
        "  print(\" \" * x, \"*\" * (n-x))"
      ]
    },
    {
      "cell_type": "code",
      "source": [
        "#2\n",
        "n = int(input())\n",
        "for x in range(n):\n",
        "  print(\" \" * (n-(x+1)), \"*\" * (x+1))"
      ],
      "metadata": {
        "colab": {
          "base_uri": "https://localhost:8080/"
        },
        "id": "XDeDbPPqzEkK",
        "outputId": "503805da-3197-4fee-e155-200ea69e27af"
      },
      "execution_count": null,
      "outputs": [
        {
          "output_type": "stream",
          "name": "stdout",
          "text": [
            "6\n",
            "      *\n",
            "     **\n",
            "    ***\n",
            "   ****\n",
            "  *****\n",
            " ******\n"
          ]
        }
      ]
    },
    {
      "cell_type": "code",
      "source": [
        "#3\n",
        "def get_distance(point_1, point_2):\n",
        "  return ((point_1[0]-point_2[0])**2 + (point_1[1]-point_2[1])**2)**0.5\n",
        "point_1 = list(map(lambda x: int(x), input(\"point_1: \").split()))\n",
        "point_2 = list(map(lambda x: int(x), input(\"point_2: \").split()))\n",
        "ans = get_distance(point_1, point_2)\n",
        "print(ans)"
      ],
      "metadata": {
        "colab": {
          "base_uri": "https://localhost:8080/"
        },
        "id": "vcgshTlQzqPB",
        "outputId": "a98792f1-feba-41d1-c4d6-5ef03416a4cf"
      },
      "execution_count": null,
      "outputs": [
        {
          "output_type": "stream",
          "name": "stdout",
          "text": [
            "point_1: 3 5\n",
            "point_2: 10 29\n",
            "25.0\n"
          ]
        }
      ]
    },
    {
      "cell_type": "code",
      "source": [
        "#4\n",
        "from random import randint\n",
        "row = int(input(\"row:\"))\n",
        "col = int(input(\"column:\"))\n",
        "nums = [[randint(1,20) for j in range(col)]for i in range(row)]\n",
        "print(nums)\n"
      ],
      "metadata": {
        "colab": {
          "base_uri": "https://localhost:8080/"
        },
        "id": "xeCPds971w4u",
        "outputId": "dc95bf6a-85c2-44cc-81e5-1db5d3e6a2b3"
      },
      "execution_count": null,
      "outputs": [
        {
          "output_type": "stream",
          "name": "stdout",
          "text": [
            "row:5\n",
            "column:3\n",
            "[[11, 7, 1], [1, 8, 9], [14, 2, 13], [14, 7, 3], [4, 18, 11]]\n"
          ]
        }
      ]
    },
    {
      "cell_type": "code",
      "source": [
        ""
      ],
      "metadata": {
        "id": "l_Ybiaqb4NUb"
      },
      "execution_count": null,
      "outputs": []
    }
  ]
}