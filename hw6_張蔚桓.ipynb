{
  "nbformat": 4,
  "nbformat_minor": 0,
  "metadata": {
    "colab": {
      "name": "hw6_張蔚桓.ipynb",
      "provenance": [],
      "authorship_tag": "ABX9TyO7YGVBtgYFgx2hUrQAnhnR",
      "include_colab_link": true
    },
    "kernelspec": {
      "name": "python3",
      "display_name": "Python 3"
    },
    "language_info": {
      "name": "python"
    }
  },
  "cells": [
    {
      "cell_type": "markdown",
      "metadata": {
        "id": "view-in-github",
        "colab_type": "text"
      },
      "source": [
        "<a href=\"https://colab.research.google.com/github/miukikire/python4001/blob/main/hw6_%E5%BC%B5%E8%94%9A%E6%A1%93.ipynb\" target=\"_parent\"><img src=\"https://colab.research.google.com/assets/colab-badge.svg\" alt=\"Open In Colab\"/></a>"
      ]
    },
    {
      "cell_type": "markdown",
      "source": [
        "讀取資料"
      ],
      "metadata": {
        "id": "JwxgkcWx4wGt"
      }
    },
    {
      "cell_type": "code",
      "source": [
        "import numpy as np\n",
        "import pandas as pd\n",
        "import matplotlib.pyplot as plt\n",
        "\n",
        "data = pd.read_csv(\"https://raw.githubusercontent.com/ThousandAI/pycs4001/main/class08/drug200.csv\")\n",
        "print(data.head(5))\n",
        "\n",
        "x = data.iloc[:,:-1]\n",
        "y = data.iloc[:,-1:]\n",
        "\n",
        "dummy_x = pd.get_dummies(x)\n",
        "\n",
        "from sklearn.model_selection import train_test_split\n",
        "dummy_x = np.array(dummy_x)\n",
        "\n",
        "train_x, test_x, train_y, test_y = train_test_split(dummy_x, y, test_size=0.2, random_state=10)\n",
        "\n",
        "print(f\"train_x shape:  {train_x.shape}\")\n",
        "print(f\"test_x shape: {test_x.shape}\")"
      ],
      "metadata": {
        "colab": {
          "base_uri": "https://localhost:8080/"
        },
        "id": "RbCoAiqq4y4C",
        "outputId": "1ac01fea-c3cf-4686-831d-71ec7b6ca95d"
      },
      "execution_count": 9,
      "outputs": [
        {
          "output_type": "stream",
          "name": "stdout",
          "text": [
            "   Age Sex      BP Cholesterol  Na_to_K   Drug\n",
            "0   23   F    HIGH        HIGH   25.355  drugY\n",
            "1   47   M     LOW        HIGH   13.093  drugC\n",
            "2   47   M     LOW        HIGH   10.114  drugC\n",
            "3   28   F  NORMAL        HIGH    7.798  drugX\n",
            "4   61   F     LOW        HIGH   18.043  drugY\n",
            "train_x shape:  (160, 9)\n",
            "test_x shape: (40, 9)\n"
          ]
        }
      ]
    },
    {
      "cell_type": "markdown",
      "source": [
        "搭建模型"
      ],
      "metadata": {
        "id": "T9nxZhdp44Xm"
      }
    },
    {
      "cell_type": "code",
      "execution_count": 10,
      "metadata": {
        "id": "5zIM0SOnX4nI"
      },
      "outputs": [],
      "source": [
        "from sklearn.tree import DecisionTreeClassifier\n",
        "dc = DecisionTreeClassifier(criterion=\"entropy\", max_depth = 4, random_state=10)\n"
      ]
    },
    {
      "cell_type": "markdown",
      "source": [
        "訓練模型"
      ],
      "metadata": {
        "id": "xRO2XNa35Wpl"
      }
    },
    {
      "cell_type": "code",
      "source": [
        "dc.fit(train_x, train_y)"
      ],
      "metadata": {
        "id": "2I7K3xJq2MfY",
        "colab": {
          "base_uri": "https://localhost:8080/"
        },
        "outputId": "4e12c73a-46fa-45a3-c09c-790d5853dac6"
      },
      "execution_count": 12,
      "outputs": [
        {
          "output_type": "execute_result",
          "data": {
            "text/plain": [
              "DecisionTreeClassifier(criterion='entropy', max_depth=4, random_state=10)"
            ]
          },
          "metadata": {},
          "execution_count": 12
        }
      ]
    },
    {
      "cell_type": "markdown",
      "source": [
        "評估模型"
      ],
      "metadata": {
        "id": "ITf1d3xJ5eBu"
      }
    },
    {
      "cell_type": "code",
      "source": [
        "from sklearn import metrics\n",
        "y_pred = dc.predict(test_x)\n",
        "print(\"DecisionTree Accuracy: \", metrics.accuracy_score(test_y, y_pred))"
      ],
      "metadata": {
        "colab": {
          "base_uri": "https://localhost:8080/"
        },
        "id": "AQO9o2y23lI2",
        "outputId": "4391ec79-cd77-41b5-c7c6-18f46b73ffbd"
      },
      "execution_count": 13,
      "outputs": [
        {
          "output_type": "stream",
          "name": "stdout",
          "text": [
            "DecisionTree Accuracy:  1.0\n"
          ]
        }
      ]
    },
    {
      "cell_type": "code",
      "source": [
        "from sklearn import tree\n",
        "tree.plot_tree(dc)"
      ],
      "metadata": {
        "colab": {
          "base_uri": "https://localhost:8080/",
          "height": 467
        },
        "id": "9j68kNEnt7bm",
        "outputId": "f542b40a-9e6b-45e5-d1c0-df70843eef21"
      },
      "execution_count": 14,
      "outputs": [
        {
          "output_type": "execute_result",
          "data": {
            "text/plain": [
              "[Text(0.625, 0.9, 'X[1] <= 14.829\\nentropy = 1.915\\nsamples = 160\\nvalue = [17, 13, 10, 45, 75]'),\n",
              " Text(0.5, 0.7, 'X[4] <= 0.5\\nentropy = 1.728\\nsamples = 85\\nvalue = [17, 13, 10, 45, 0]'),\n",
              " Text(0.25, 0.5, 'X[5] <= 0.5\\nentropy = 0.684\\nsamples = 55\\nvalue = [0, 0, 10, 45, 0]'),\n",
              " Text(0.125, 0.3, 'entropy = 0.0\\nsamples = 29\\nvalue = [0, 0, 0, 29, 0]'),\n",
              " Text(0.375, 0.3, 'X[7] <= 0.5\\nentropy = 0.961\\nsamples = 26\\nvalue = [0, 0, 10, 16, 0]'),\n",
              " Text(0.25, 0.1, 'entropy = 0.0\\nsamples = 16\\nvalue = [0, 0, 0, 16, 0]'),\n",
              " Text(0.5, 0.1, 'entropy = 0.0\\nsamples = 10\\nvalue = [0, 0, 10, 0, 0]'),\n",
              " Text(0.75, 0.5, 'X[0] <= 50.5\\nentropy = 0.987\\nsamples = 30\\nvalue = [17, 13, 0, 0, 0]'),\n",
              " Text(0.625, 0.3, 'entropy = 0.0\\nsamples = 17\\nvalue = [17, 0, 0, 0, 0]'),\n",
              " Text(0.875, 0.3, 'entropy = 0.0\\nsamples = 13\\nvalue = [0, 13, 0, 0, 0]'),\n",
              " Text(0.75, 0.7, 'entropy = 0.0\\nsamples = 75\\nvalue = [0, 0, 0, 0, 75]')]"
            ]
          },
          "metadata": {},
          "execution_count": 14
        },
        {
          "output_type": "display_data",
          "data": {
            "text/plain": [
              "<Figure size 432x288 with 1 Axes>"
            ],
            "image/png": "[encoded data removed]"
          },
          "metadata": {
            "needs_background": "light"
          }
        }
      ]
    },
    {
      "cell_type": "code",
      "source": [
        "import graphviz\n",
        "dot_data = tree.export_graphviz(dc)\n",
        "graph = graphviz.Source(dot_data, format=\"png\") \n",
        "graph"
      ],
      "metadata": {
        "colab": {
          "base_uri": "https://localhost:8080/",
          "height": 677
        },
        "id": "DySTeCZbuVuK",
        "outputId": "0a4acb55-c51c-453f-9f28-6573f27d0ec8"
      },
      "execution_count": 19,
      "outputs": [
        {
          "output_type": "execute_result",
          "data": {
            "text/plain": [
              "<graphviz.files.Source at 0x7fc0297b9850>"
            ],
            "image/svg+xml": "<?xml version=\"1.0\" encoding=\"UTF-8\" standalone=\"no\"?>\n<!DOCTYPE svg PUBLIC \"-//W3C//DTD SVG 1.1//EN\"\n \"http://www.w3.org/Graphics/SVG/1.1/DTD/svg11.dtd\">\n<!-- Generated by graphviz version 2.40.1 (20161225.0304)\n -->\n<!-- Title: Tree Pages: 1 -->\n<svg width=\"692pt\" height=\"477pt\"\n viewBox=\"0.00 0.00 692.00 477.00\" xmlns=\"http://www.w3.org/2000/svg\" xmlns:xlink=\"http://www.w3.org/1999/xlink\">\n<g id=\"graph0\" class=\"graph\" transform=\"scale(1 1) rotate(0) translate(4 473)\">\n<title>Tree</title>\n<polygon fill=\"#ffffff\" stroke=\"transparent\" points=\"-4,4 -4,-473 688,-473 688,4 -4,4\"/>\n<!-- 0 -->\n<g id=\"node1\" class=\"node\">\n<title>0</title>\n<polygon fill=\"none\" stroke=\"#000000\" points=\"529.5,-469 341.5,-469 341.5,-401 529.5,-401 529.5,-469\"/>\n<text text-anchor=\"middle\" x=\"435.5\" y=\"-453.8\" font-family=\"Helvetica,sans-Serif\" font-size=\"14.00\" fill=\"#000000\">X[1] &lt;= 14.829</text>\n<text text-anchor=\"middle\" x=\"435.5\" y=\"-438.8\" font-family=\"Helvetica,sans-Serif\" font-size=\"14.00\" fill=\"#000000\">entropy = 1.915</text>\n<text text-anchor=\"middle\" x=\"435.5\" y=\"-423.8\" font-family=\"Helvetica,sans-Serif\" font-size=\"14.00\" fill=\"#000000\">samples = 160</text>\n<text text-anchor=\"middle\" x=\"435.5\" y=\"-408.8\" font-family=\"Helvetica,sans-Serif\" font-size=\"14.00\" fill=\"#000000\">value = [17, 13, 10, 45, 75]</text>\n</g>\n<!-- 1 -->\n<g id=\"node2\" class=\"node\">\n<title>1</title>\n<polygon fill=\"none\" stroke=\"#000000\" points=\"433,-365 254,-365 254,-297 433,-297 433,-365\"/>\n<text text-anchor=\"middle\" x=\"343.5\" y=\"-349.8\" font-family=\"Helvetica,sans-Serif\" font-size=\"14.00\" fill=\"#000000\">X[4] &lt;= 0.5</text>\n<text text-anchor=\"middle\" x=\"343.5\" y=\"-334.8\" font-family=\"Helvetica,sans-Serif\" font-size=\"14.00\" fill=\"#000000\">entropy = 1.728</text>\n<text text-anchor=\"middle\" x=\"343.5\" y=\"-319.8\" font-family=\"Helvetica,sans-Serif\" font-size=\"14.00\" fill=\"#000000\">samples = 85</text>\n<text text-anchor=\"middle\" x=\"343.5\" y=\"-304.8\" font-family=\"Helvetica,sans-Serif\" font-size=\"14.00\" fill=\"#000000\">value = [17, 13, 10, 45, 0]</text>\n</g>\n<!-- 0&#45;&gt;1 -->\n<g id=\"edge1\" class=\"edge\">\n<title>0&#45;&gt;1</title>\n<path fill=\"none\" stroke=\"#000000\" d=\"M405.3758,-400.9465C397.4332,-391.968 388.7709,-382.1758 380.511,-372.8385\"/>\n<polygon fill=\"#000000\" stroke=\"#000000\" points=\"382.9392,-370.301 373.6919,-365.13 377.6962,-374.939 382.9392,-370.301\"/>\n<text text-anchor=\"middle\" x=\"372.1642\" y=\"-386.3833\" font-family=\"Helvetica,sans-Serif\" font-size=\"14.00\" fill=\"#000000\">True</text>\n</g>\n<!-- 10 -->\n<g id=\"node11\" class=\"node\">\n<title>10</title>\n<polygon fill=\"none\" stroke=\"#000000\" points=\"606,-357.5 451,-357.5 451,-304.5 606,-304.5 606,-357.5\"/>\n<text text-anchor=\"middle\" x=\"528.5\" y=\"-342.3\" font-family=\"Helvetica,sans-Serif\" font-size=\"14.00\" fill=\"#000000\">entropy = 0.0</text>\n<text text-anchor=\"middle\" x=\"528.5\" y=\"-327.3\" font-family=\"Helvetica,sans-Serif\" font-size=\"14.00\" fill=\"#000000\">samples = 75</text>\n<text text-anchor=\"middle\" x=\"528.5\" y=\"-312.3\" font-family=\"Helvetica,sans-Serif\" font-size=\"14.00\" fill=\"#000000\">value = [0, 0, 0, 0, 75]</text>\n</g>\n<!-- 0&#45;&gt;10 -->\n<g id=\"edge10\" class=\"edge\">\n<title>0&#45;&gt;10</title>\n<path fill=\"none\" stroke=\"#000000\" d=\"M465.9517,-400.9465C476.1955,-389.491 487.6238,-376.711 497.8805,-365.2412\"/>\n<polygon fill=\"#000000\" stroke=\"#000000\" points=\"500.7083,-367.3295 504.7652,-357.5422 495.4903,-362.6634 500.7083,-367.3295\"/>\n<text text-anchor=\"middle\" x=\"506.1589\" y=\"-378.8033\" font-family=\"Helvetica,sans-Serif\" font-size=\"14.00\" fill=\"#000000\">False</text>\n</g>\n<!-- 2 -->\n<g id=\"node3\" class=\"node\">\n<title>2</title>\n<polygon fill=\"none\" stroke=\"#000000\" points=\"335,-261 172,-261 172,-193 335,-193 335,-261\"/>\n<text text-anchor=\"middle\" x=\"253.5\" y=\"-245.8\" font-family=\"Helvetica,sans-Serif\" font-size=\"14.00\" fill=\"#000000\">X[5] &lt;= 0.5</text>\n<text text-anchor=\"middle\" x=\"253.5\" y=\"-230.8\" font-family=\"Helvetica,sans-Serif\" font-size=\"14.00\" fill=\"#000000\">entropy = 0.684</text>\n<text text-anchor=\"middle\" x=\"253.5\" y=\"-215.8\" font-family=\"Helvetica,sans-Serif\" font-size=\"14.00\" fill=\"#000000\">samples = 55</text>\n<text text-anchor=\"middle\" x=\"253.5\" y=\"-200.8\" font-family=\"Helvetica,sans-Serif\" font-size=\"14.00\" fill=\"#000000\">value = [0, 0, 10, 45, 0]</text>\n</g>\n<!-- 1&#45;&gt;2 -->\n<g id=\"edge2\" class=\"edge\">\n<title>1&#45;&gt;2</title>\n<path fill=\"none\" stroke=\"#000000\" d=\"M314.0306,-296.9465C306.2607,-287.968 297.7868,-278.1758 289.7064,-268.8385\"/>\n<polygon fill=\"#000000\" stroke=\"#000000\" points=\"292.226,-266.4014 283.0356,-261.13 286.9328,-270.982 292.226,-266.4014\"/>\n</g>\n<!-- 7 -->\n<g id=\"node8\" class=\"node\">\n<title>7</title>\n<polygon fill=\"none\" stroke=\"#000000\" points=\"516,-261 353,-261 353,-193 516,-193 516,-261\"/>\n<text text-anchor=\"middle\" x=\"434.5\" y=\"-245.8\" font-family=\"Helvetica,sans-Serif\" font-size=\"14.00\" fill=\"#000000\">X[0] &lt;= 50.5</text>\n<text text-anchor=\"middle\" x=\"434.5\" y=\"-230.8\" font-family=\"Helvetica,sans-Serif\" font-size=\"14.00\" fill=\"#000000\">entropy = 0.987</text>\n<text text-anchor=\"middle\" x=\"434.5\" y=\"-215.8\" font-family=\"Helvetica,sans-Serif\" font-size=\"14.00\" fill=\"#000000\">samples = 30</text>\n<text text-anchor=\"middle\" x=\"434.5\" y=\"-200.8\" font-family=\"Helvetica,sans-Serif\" font-size=\"14.00\" fill=\"#000000\">value = [17, 13, 0, 0, 0]</text>\n</g>\n<!-- 1&#45;&gt;7 -->\n<g id=\"edge7\" class=\"edge\">\n<title>1&#45;&gt;7</title>\n<path fill=\"none\" stroke=\"#000000\" d=\"M373.2968,-296.9465C381.153,-287.968 389.7212,-278.1758 397.8913,-268.8385\"/>\n<polygon fill=\"#000000\" stroke=\"#000000\" points=\"400.6852,-270.9606 404.6363,-261.13 395.4171,-266.351 400.6852,-270.9606\"/>\n</g>\n<!-- 3 -->\n<g id=\"node4\" class=\"node\">\n<title>3</title>\n<polygon fill=\"none\" stroke=\"#000000\" points=\"155,-149.5 0,-149.5 0,-96.5 155,-96.5 155,-149.5\"/>\n<text text-anchor=\"middle\" x=\"77.5\" y=\"-134.3\" font-family=\"Helvetica,sans-Serif\" font-size=\"14.00\" fill=\"#000000\">entropy = 0.0</text>\n<text text-anchor=\"middle\" x=\"77.5\" y=\"-119.3\" font-family=\"Helvetica,sans-Serif\" font-size=\"14.00\" fill=\"#000000\">samples = 29</text>\n<text text-anchor=\"middle\" x=\"77.5\" y=\"-104.3\" font-family=\"Helvetica,sans-Serif\" font-size=\"14.00\" fill=\"#000000\">value = [0, 0, 0, 29, 0]</text>\n</g>\n<!-- 2&#45;&gt;3 -->\n<g id=\"edge3\" class=\"edge\">\n<title>2&#45;&gt;3</title>\n<path fill=\"none\" stroke=\"#000000\" d=\"M195.871,-192.9465C175.0867,-180.6649 151.7261,-166.8609 131.2835,-154.7811\"/>\n<polygon fill=\"#000000\" stroke=\"#000000\" points=\"132.8074,-151.6163 122.4175,-149.5422 129.2462,-157.6428 132.8074,-151.6163\"/>\n</g>\n<!-- 4 -->\n<g id=\"node5\" class=\"node\">\n<title>4</title>\n<polygon fill=\"none\" stroke=\"#000000\" points=\"336,-157 173,-157 173,-89 336,-89 336,-157\"/>\n<text text-anchor=\"middle\" x=\"254.5\" y=\"-141.8\" font-family=\"Helvetica,sans-Serif\" font-size=\"14.00\" fill=\"#000000\">X[7] &lt;= 0.5</text>\n<text text-anchor=\"middle\" x=\"254.5\" y=\"-126.8\" font-family=\"Helvetica,sans-Serif\" font-size=\"14.00\" fill=\"#000000\">entropy = 0.961</text>\n<text text-anchor=\"middle\" x=\"254.5\" y=\"-111.8\" font-family=\"Helvetica,sans-Serif\" font-size=\"14.00\" fill=\"#000000\">samples = 26</text>\n<text text-anchor=\"middle\" x=\"254.5\" y=\"-96.8\" font-family=\"Helvetica,sans-Serif\" font-size=\"14.00\" fill=\"#000000\">value = [0, 0, 10, 16, 0]</text>\n</g>\n<!-- 2&#45;&gt;4 -->\n<g id=\"edge4\" class=\"edge\">\n<title>2&#45;&gt;4</title>\n<path fill=\"none\" stroke=\"#000000\" d=\"M253.8274,-192.9465C253.906,-184.776 253.991,-175.9318 254.0734,-167.3697\"/>\n<polygon fill=\"#000000\" stroke=\"#000000\" points=\"257.5754,-167.1632 254.1718,-157.13 250.5757,-167.0958 257.5754,-167.1632\"/>\n</g>\n<!-- 5 -->\n<g id=\"node6\" class=\"node\">\n<title>5</title>\n<polygon fill=\"none\" stroke=\"#000000\" points=\"245,-53 90,-53 90,0 245,0 245,-53\"/>\n<text text-anchor=\"middle\" x=\"167.5\" y=\"-37.8\" font-family=\"Helvetica,sans-Serif\" font-size=\"14.00\" fill=\"#000000\">entropy = 0.0</text>\n<text text-anchor=\"middle\" x=\"167.5\" y=\"-22.8\" font-family=\"Helvetica,sans-Serif\" font-size=\"14.00\" fill=\"#000000\">samples = 16</text>\n<text text-anchor=\"middle\" x=\"167.5\" y=\"-7.8\" font-family=\"Helvetica,sans-Serif\" font-size=\"14.00\" fill=\"#000000\">value = [0, 0, 0, 16, 0]</text>\n</g>\n<!-- 4&#45;&gt;5 -->\n<g id=\"edge5\" class=\"edge\">\n<title>4&#45;&gt;5</title>\n<path fill=\"none\" stroke=\"#000000\" d=\"M223.8271,-88.9777C215.5715,-79.8207 206.6391,-69.9129 198.3728,-60.744\"/>\n<polygon fill=\"#000000\" stroke=\"#000000\" points=\"200.9108,-58.3321 191.6152,-53.2485 195.7117,-63.0193 200.9108,-58.3321\"/>\n</g>\n<!-- 6 -->\n<g id=\"node7\" class=\"node\">\n<title>6</title>\n<polygon fill=\"none\" stroke=\"#000000\" points=\"418,-53 263,-53 263,0 418,0 418,-53\"/>\n<text text-anchor=\"middle\" x=\"340.5\" y=\"-37.8\" font-family=\"Helvetica,sans-Serif\" font-size=\"14.00\" fill=\"#000000\">entropy = 0.0</text>\n<text text-anchor=\"middle\" x=\"340.5\" y=\"-22.8\" font-family=\"Helvetica,sans-Serif\" font-size=\"14.00\" fill=\"#000000\">samples = 10</text>\n<text text-anchor=\"middle\" x=\"340.5\" y=\"-7.8\" font-family=\"Helvetica,sans-Serif\" font-size=\"14.00\" fill=\"#000000\">value = [0, 0, 10, 0, 0]</text>\n</g>\n<!-- 4&#45;&gt;6 -->\n<g id=\"edge6\" class=\"edge\">\n<title>4&#45;&gt;6</title>\n<path fill=\"none\" stroke=\"#000000\" d=\"M284.8204,-88.9777C292.981,-79.8207 301.8108,-69.9129 309.9821,-60.744\"/>\n<polygon fill=\"#000000\" stroke=\"#000000\" points=\"312.6217,-63.0427 316.662,-53.2485 307.3958,-58.3854 312.6217,-63.0427\"/>\n</g>\n<!-- 8 -->\n<g id=\"node9\" class=\"node\">\n<title>8</title>\n<polygon fill=\"none\" stroke=\"#000000\" points=\"511,-149.5 356,-149.5 356,-96.5 511,-96.5 511,-149.5\"/>\n<text text-anchor=\"middle\" x=\"433.5\" y=\"-134.3\" font-family=\"Helvetica,sans-Serif\" font-size=\"14.00\" fill=\"#000000\">entropy = 0.0</text>\n<text text-anchor=\"middle\" x=\"433.5\" y=\"-119.3\" font-family=\"Helvetica,sans-Serif\" font-size=\"14.00\" fill=\"#000000\">samples = 17</text>\n<text text-anchor=\"middle\" x=\"433.5\" y=\"-104.3\" font-family=\"Helvetica,sans-Serif\" font-size=\"14.00\" fill=\"#000000\">value = [17, 0, 0, 0, 0]</text>\n</g>\n<!-- 7&#45;&gt;8 -->\n<g id=\"edge8\" class=\"edge\">\n<title>7&#45;&gt;8</title>\n<path fill=\"none\" stroke=\"#000000\" d=\"M434.1726,-192.9465C434.0698,-182.2621 433.956,-170.4254 433.8517,-159.5742\"/>\n<polygon fill=\"#000000\" stroke=\"#000000\" points=\"437.3513,-159.508 433.7552,-149.5422 430.3516,-159.5754 437.3513,-159.508\"/>\n</g>\n<!-- 9 -->\n<g id=\"node10\" class=\"node\">\n<title>9</title>\n<polygon fill=\"none\" stroke=\"#000000\" points=\"684,-149.5 529,-149.5 529,-96.5 684,-96.5 684,-149.5\"/>\n<text text-anchor=\"middle\" x=\"606.5\" y=\"-134.3\" font-family=\"Helvetica,sans-Serif\" font-size=\"14.00\" fill=\"#000000\">entropy = 0.0</text>\n<text text-anchor=\"middle\" x=\"606.5\" y=\"-119.3\" font-family=\"Helvetica,sans-Serif\" font-size=\"14.00\" fill=\"#000000\">samples = 13</text>\n<text text-anchor=\"middle\" x=\"606.5\" y=\"-104.3\" font-family=\"Helvetica,sans-Serif\" font-size=\"14.00\" fill=\"#000000\">value = [0, 13, 0, 0, 0]</text>\n</g>\n<!-- 7&#45;&gt;9 -->\n<g id=\"edge9\" class=\"edge\">\n<title>7&#45;&gt;9</title>\n<path fill=\"none\" stroke=\"#000000\" d=\"M490.8192,-192.9465C511.1311,-180.6649 533.9608,-166.8609 553.9389,-154.7811\"/>\n<polygon fill=\"#000000\" stroke=\"#000000\" points=\"555.857,-157.7115 562.6033,-149.5422 552.235,-151.7213 555.857,-157.7115\"/>\n</g>\n</g>\n</svg>\n"
          },
          "metadata": {},
          "execution_count": 19
        }
      ]
    },
    {
      "cell_type": "code",
      "source": [
        "text_representation = tree.export_text(dc)\n",
        "print(text_representation)"
      ],
      "metadata": {
        "colab": {
          "base_uri": "https://localhost:8080/"
        },
        "id": "LwOQAJIlusia",
        "outputId": "50137d16-1529-4200-ae50-e9d10d26f6e0"
      },
      "execution_count": 20,
      "outputs": [
        {
          "output_type": "stream",
          "name": "stdout",
          "text": [
            "|--- feature_1 <= 14.83\n",
            "|   |--- feature_4 <= 0.50\n",
            "|   |   |--- feature_5 <= 0.50\n",
            "|   |   |   |--- class: drugX\n",
            "|   |   |--- feature_5 >  0.50\n",
            "|   |   |   |--- feature_7 <= 0.50\n",
            "|   |   |   |   |--- class: drugX\n",
            "|   |   |   |--- feature_7 >  0.50\n",
            "|   |   |   |   |--- class: drugC\n",
            "|   |--- feature_4 >  0.50\n",
            "|   |   |--- feature_0 <= 50.50\n",
            "|   |   |   |--- class: drugA\n",
            "|   |   |--- feature_0 >  50.50\n",
            "|   |   |   |--- class: drugB\n",
            "|--- feature_1 >  14.83\n",
            "|   |--- class: drugY\n",
            "\n"
          ]
        }
      ]
    },
    {
      "cell_type": "code",
      "source": [
        "!pip install dtreeviz\n",
        "from dtreeviz.trees import dtreeviz\n",
        "\n",
        "viz = dtreeviz(dc)\n",
        "\n",
        "viz"
      ],
      "metadata": {
        "colab": {
          "base_uri": "https://localhost:8080/",
          "height": 921
        },
        "id": "CcOQFz7NvD16",
        "outputId": "e4257401-1a1b-402a-d4c1-26e425f13b87"
      },
      "execution_count": 25,
      "outputs": [
        {
          "output_type": "stream",
          "name": "stdout",
          "text": [
            "Looking in indexes: https://pypi.org/simple, https://us-python.pkg.dev/colab-wheels/public/simple/\n",
            "Requirement already satisfied: dtreeviz in /usr/local/lib/python3.7/dist-packages (1.3.7)\n",
            "Requirement already satisfied: pandas in /usr/local/lib/python3.7/dist-packages (from dtreeviz) (1.3.5)\n",
            "Requirement already satisfied: graphviz>=0.9 in /usr/local/lib/python3.7/dist-packages (from dtreeviz) (0.10.1)\n",
            "Requirement already satisfied: matplotlib in /usr/local/lib/python3.7/dist-packages (from dtreeviz) (3.2.2)\n",
            "Requirement already satisfied: colour in /usr/local/lib/python3.7/dist-packages (from dtreeviz) (0.1.5)\n",
            "Requirement already satisfied: numpy in /usr/local/lib/python3.7/dist-packages (from dtreeviz) (1.21.6)\n",
            "Requirement already satisfied: scikit-learn in /usr/local/lib/python3.7/dist-packages (from dtreeviz) (1.0.2)\n",
            "Requirement already satisfied: pytest in /usr/local/lib/python3.7/dist-packages (from dtreeviz) (3.6.4)\n",
            "Requirement already satisfied: kiwisolver>=1.0.1 in /usr/local/lib/python3.7/dist-packages (from matplotlib->dtreeviz) (1.4.4)\n",
            "Requirement already satisfied: python-dateutil>=2.1 in /usr/local/lib/python3.7/dist-packages (from matplotlib->dtreeviz) (2.8.2)\n",
            "Requirement already satisfied: cycler>=0.10 in /usr/local/lib/python3.7/dist-packages (from matplotlib->dtreeviz) (0.11.0)\n",
            "Requirement already satisfied: pyparsing!=2.0.4,!=2.1.2,!=2.1.6,>=2.0.1 in /usr/local/lib/python3.7/dist-packages (from matplotlib->dtreeviz) (3.0.9)\n",
            "Requirement already satisfied: typing-extensions in /usr/local/lib/python3.7/dist-packages (from kiwisolver>=1.0.1->matplotlib->dtreeviz) (4.1.1)\n",
            "Requirement already satisfied: six>=1.5 in /usr/local/lib/python3.7/dist-packages (from python-dateutil>=2.1->matplotlib->dtreeviz) (1.15.0)\n",
            "Requirement already satisfied: pytz>=2017.3 in /usr/local/lib/python3.7/dist-packages (from pandas->dtreeviz) (2022.1)\n",
            "Requirement already satisfied: atomicwrites>=1.0 in /usr/local/lib/python3.7/dist-packages (from pytest->dtreeviz) (1.4.1)\n",
            "Requirement already satisfied: setuptools in /usr/local/lib/python3.7/dist-packages (from pytest->dtreeviz) (57.4.0)\n",
            "Requirement already satisfied: attrs>=17.4.0 in /usr/local/lib/python3.7/dist-packages (from pytest->dtreeviz) (22.1.0)\n",
            "Requirement already satisfied: py>=1.5.0 in /usr/local/lib/python3.7/dist-packages (from pytest->dtreeviz) (1.11.0)\n",
            "Requirement already satisfied: more-itertools>=4.0.0 in /usr/local/lib/python3.7/dist-packages (from pytest->dtreeviz) (8.13.0)\n",
            "Requirement already satisfied: pluggy<0.8,>=0.5 in /usr/local/lib/python3.7/dist-packages (from pytest->dtreeviz) (0.7.1)\n",
            "Requirement already satisfied: threadpoolctl>=2.0.0 in /usr/local/lib/python3.7/dist-packages (from scikit-learn->dtreeviz) (3.1.0)\n",
            "Requirement already satisfied: joblib>=0.11 in /usr/local/lib/python3.7/dist-packages (from scikit-learn->dtreeviz) (1.1.0)\n",
            "Requirement already satisfied: scipy>=1.1.0 in /usr/local/lib/python3.7/dist-packages (from scikit-learn->dtreeviz) (1.7.3)\n"
          ]
        },
        {
          "output_type": "error",
          "ename": "AttributeError",
          "evalue": "ignored",
          "traceback": [
            "\u001b[0;31m---------------------------------------------------------------------------\u001b[0m",
            "\u001b[0;31mAttributeError\u001b[0m                            Traceback (most recent call last)",
            "\u001b[0;32m<ipython-input-25-79163435d962>\u001b[0m in \u001b[0;36m<module>\u001b[0;34m()\u001b[0m\n\u001b[1;32m      2\u001b[0m \u001b[0;32mfrom\u001b[0m \u001b[0mdtreeviz\u001b[0m\u001b[0;34m.\u001b[0m\u001b[0mtrees\u001b[0m \u001b[0;32mimport\u001b[0m \u001b[0mdtreeviz\u001b[0m\u001b[0;34m\u001b[0m\u001b[0;34m\u001b[0m\u001b[0m\n\u001b[1;32m      3\u001b[0m \u001b[0;34m\u001b[0m\u001b[0m\n\u001b[0;32m----> 4\u001b[0;31m \u001b[0mviz\u001b[0m \u001b[0;34m=\u001b[0m \u001b[0mdtreeviz\u001b[0m\u001b[0;34m(\u001b[0m\u001b[0mdc\u001b[0m\u001b[0;34m)\u001b[0m\u001b[0;34m\u001b[0m\u001b[0;34m\u001b[0m\u001b[0m\n\u001b[0m\u001b[1;32m      5\u001b[0m \u001b[0;34m\u001b[0m\u001b[0m\n\u001b[1;32m      6\u001b[0m \u001b[0mviz\u001b[0m\u001b[0;34m\u001b[0m\u001b[0;34m\u001b[0m\u001b[0m\n",
            "\u001b[0;32m/usr/local/lib/python3.7/dist-packages/dtreeviz/trees.py\u001b[0m in \u001b[0;36mdtreeviz\u001b[0;34m(tree_model, x_data, y_data, feature_names, target_name, class_names, tree_index, precision, orientation, instance_orientation, show_root_edge_labels, show_node_labels, show_just_path, fancy, histtype, highlight_path, X, max_X_features_LR, max_X_features_TD, depth_range_to_display, label_fontsize, ticks_fontsize, fontname, title, title_fontsize, colors, cmap, scale)\u001b[0m\n\u001b[1;32m    803\u001b[0m     \u001b[0;32mif\u001b[0m \u001b[0misinstance\u001b[0m\u001b[0;34m(\u001b[0m\u001b[0my_data\u001b[0m\u001b[0;34m,\u001b[0m \u001b[0mpd\u001b[0m\u001b[0;34m.\u001b[0m\u001b[0mSeries\u001b[0m\u001b[0;34m)\u001b[0m\u001b[0;34m:\u001b[0m\u001b[0;34m\u001b[0m\u001b[0;34m\u001b[0m\u001b[0m\n\u001b[1;32m    804\u001b[0m         \u001b[0my_data\u001b[0m \u001b[0;34m=\u001b[0m \u001b[0my_data\u001b[0m\u001b[0;34m.\u001b[0m\u001b[0mvalues\u001b[0m\u001b[0;34m\u001b[0m\u001b[0;34m\u001b[0m\u001b[0m\n\u001b[0;32m--> 805\u001b[0;31m     \u001b[0;32mif\u001b[0m \u001b[0my_data\u001b[0m\u001b[0;34m.\u001b[0m\u001b[0mdtype\u001b[0m \u001b[0;34m==\u001b[0m \u001b[0mnp\u001b[0m\u001b[0;34m.\u001b[0m\u001b[0mdtype\u001b[0m\u001b[0;34m(\u001b[0m\u001b[0mobject\u001b[0m\u001b[0;34m)\u001b[0m\u001b[0;34m:\u001b[0m\u001b[0;34m\u001b[0m\u001b[0;34m\u001b[0m\u001b[0m\n\u001b[0m\u001b[1;32m    806\u001b[0m         \u001b[0;32mtry\u001b[0m\u001b[0;34m:\u001b[0m\u001b[0;34m\u001b[0m\u001b[0;34m\u001b[0m\u001b[0m\n\u001b[1;32m    807\u001b[0m             \u001b[0my_data\u001b[0m \u001b[0;34m=\u001b[0m \u001b[0my_data\u001b[0m\u001b[0;34m.\u001b[0m\u001b[0mastype\u001b[0m\u001b[0;34m(\u001b[0m\u001b[0;34m'float'\u001b[0m\u001b[0;34m)\u001b[0m\u001b[0;34m\u001b[0m\u001b[0;34m\u001b[0m\u001b[0m\n",
            "\u001b[0;31mAttributeError\u001b[0m: 'NoneType' object has no attribute 'dtype'"
          ]
        }
      ]
    }
  ]
}